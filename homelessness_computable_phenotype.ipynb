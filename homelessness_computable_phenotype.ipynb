{
 "cells": [
  {
   "cell_type": "markdown",
   "metadata": {},
   "source": [
    "# Computable Phenotype - Homelessness\n",
    "Jack Rossi and Anurima Sharma"
   ]
  },
  {
   "cell_type": "markdown",
   "metadata": {},
   "source": [
    "## 1. Define Population for Training Data\n",
    "\n",
    "This project seeks to define the characteristics in electronic medical records that indicate that a person is experiencing homelessness. We seek to define, understand, and intervene on this population, especially homeless patients who are very sick and/or highly utilize inpatient services.\n",
    "\n",
    "We will identify a subset of patients in the study period who have 3 or more inpatient admissions in any 1-year period. A chart review will then be completed for these patients to idenify which of them are experiencing homelessness."
   ]
  },
  {
   "cell_type": "code",
   "execution_count": 2,
   "metadata": {},
   "outputs": [],
   "source": [
    "import pandas as pd"
   ]
  },
  {
   "cell_type": "code",
   "execution_count": 2,
   "metadata": {},
   "outputs": [],
   "source": [
    "adm = pd.read_csv('lmh admissions.csv')\n",
    "adm[\"synth_date\"] = pd.to_datetime(adm.loc[:,\"synth_date\"]).dt.date\n",
    "adm = adm.sort_values(by = 'synth_date')"
   ]
  },
  {
   "cell_type": "code",
   "execution_count": 3,
   "metadata": {},
   "outputs": [
    {
     "data": {
      "text/html": [
       "<div>\n",
       "<style scoped>\n",
       "    .dataframe tbody tr th:only-of-type {\n",
       "        vertical-align: middle;\n",
       "    }\n",
       "\n",
       "    .dataframe tbody tr th {\n",
       "        vertical-align: top;\n",
       "    }\n",
       "\n",
       "    .dataframe thead th {\n",
       "        text-align: right;\n",
       "    }\n",
       "</style>\n",
       "<table border=\"1\" class=\"dataframe\">\n",
       "  <thead>\n",
       "    <tr style=\"text-align: right;\">\n",
       "      <th></th>\n",
       "      <th>synth_id</th>\n",
       "      <th>synth_date</th>\n",
       "    </tr>\n",
       "  </thead>\n",
       "  <tbody>\n",
       "    <tr>\n",
       "      <td>44834</td>\n",
       "      <td>171538957</td>\n",
       "      <td>2014-01-05</td>\n",
       "    </tr>\n",
       "    <tr>\n",
       "      <td>35905</td>\n",
       "      <td>1008244996</td>\n",
       "      <td>2014-01-10</td>\n",
       "    </tr>\n",
       "    <tr>\n",
       "      <td>37561</td>\n",
       "      <td>1896715568</td>\n",
       "      <td>2014-01-15</td>\n",
       "    </tr>\n",
       "    <tr>\n",
       "      <td>37601</td>\n",
       "      <td>631697669</td>\n",
       "      <td>2014-01-15</td>\n",
       "    </tr>\n",
       "    <tr>\n",
       "      <td>33123</td>\n",
       "      <td>956115776</td>\n",
       "      <td>2014-01-16</td>\n",
       "    </tr>\n",
       "  </tbody>\n",
       "</table>\n",
       "</div>"
      ],
      "text/plain": [
       "         synth_id  synth_date\n",
       "44834   171538957  2014-01-05\n",
       "35905  1008244996  2014-01-10\n",
       "37561  1896715568  2014-01-15\n",
       "37601   631697669  2014-01-15\n",
       "33123   956115776  2014-01-16"
      ]
     },
     "execution_count": 3,
     "metadata": {},
     "output_type": "execute_result"
    }
   ],
   "source": [
    "adm.head()"
   ]
  },
  {
   "cell_type": "markdown",
   "metadata": {},
   "source": [
    "#### Find all patients with 3+ admits in a year-long span"
   ]
  },
  {
   "cell_type": "code",
   "execution_count": 4,
   "metadata": {},
   "outputs": [],
   "source": [
    "window = pd.to_timedelta(365, 'd')\n",
    "ids = adm.loc[:,'synth_id'].tolist()\n",
    "synth_date = adm.loc[:,'synth_date'].tolist()\n",
    "\n",
    "patients = []\n",
    "#loop throuhg each date, defining the year beginning on that day\n",
    "for d in list(set(synth_date)):\n",
    "    #get list of admissions between date d and date d + window; count number of each ID\n",
    "    numAdmByPat = adm.loc[((adm['synth_date'] < d + window) & (adm['synth_date'] >= d)),'synth_id'].value_counts()\n",
    "    patsThreePlus = list(numAdmByPat.index[numAdmByPat >= 3])\n",
    "    patients.extend(patsThreePlus)"
   ]
  },
  {
   "cell_type": "code",
   "execution_count": 9,
   "metadata": {},
   "outputs": [
    {
     "name": "stdout",
     "output_type": "stream",
     "text": [
      "There are 913 patients who were admitted 3 or more times in a year span.\n"
     ]
    }
   ],
   "source": [
    "patient_set = set(patients)\n",
    "print('There are {} patients who were admitted 3 or more times in a year span.'.format(len(patient_set)))"
   ]
  },
  {
   "cell_type": "markdown",
   "metadata": {},
   "source": [
    "#### Validation - patients admitted 3+ times in a calendar year."
   ]
  },
  {
   "cell_type": "code",
   "execution_count": 6,
   "metadata": {},
   "outputs": [],
   "source": [
    "#create a column for the year of the admission\n",
    "adm['Year'] = adm['synth_date'].map(lambda x: x.year)\n",
    "#count the number of admission dates for each year and patient\n",
    "admByYear = adm.groupby(by = ['Year','synth_id']).count()"
   ]
  },
  {
   "cell_type": "code",
   "execution_count": 11,
   "metadata": {},
   "outputs": [
    {
     "name": "stdout",
     "output_type": "stream",
     "text": [
      "There are 631 patients who were admitted 3+ times in a calendar year.\n"
     ]
    }
   ],
   "source": [
    "#find patients who've had 3 or more\n",
    "admByYear1 = admByYear.loc[admByYear['synth_date'] >= 3].reset_index()\n",
    "patient_set1 = set(admByYear1.loc[:,'synth_id'])\n",
    "print('There are {} patients who were admitted 3+ times in a calendar year.'.format(len(patient_set1)))"
   ]
  },
  {
   "cell_type": "markdown",
   "metadata": {},
   "source": [
    "#### Validation - patients who were admitted 3+ in a year span, but not calendar year."
   ]
  },
  {
   "cell_type": "code",
   "execution_count": 14,
   "metadata": {},
   "outputs": [
    {
     "data": {
      "text/plain": [
       "{25209670,\n",
       " 25448643,\n",
       " 30708806,\n",
       " 31569564,\n",
       " 34549340,\n",
       " 57638971,\n",
       " 63302070,\n",
       " 64002924,\n",
       " 71538267,\n",
       " 79642394,\n",
       " 83898215,\n",
       " 91638118,\n",
       " 91954940,\n",
       " 98227342,\n",
       " 108971290,\n",
       " 111441205,\n",
       " 112460299,\n",
       " 116592038,\n",
       " 122049363,\n",
       " 127879980,\n",
       " 154554168,\n",
       " 162749199,\n",
       " 164333826,\n",
       " 165158584,\n",
       " 167856983,\n",
       " 194736040,\n",
       " 200384996,\n",
       " 201415040,\n",
       " 206405851,\n",
       " 218372888,\n",
       " 230831747,\n",
       " 238297392,\n",
       " 240030363,\n",
       " 240837192,\n",
       " 241352037,\n",
       " 260388794,\n",
       " 261913852,\n",
       " 274209750,\n",
       " 277395607,\n",
       " 299395574,\n",
       " 300749248,\n",
       " 302434324,\n",
       " 305546191,\n",
       " 307982246,\n",
       " 315284609,\n",
       " 325368638,\n",
       " 332732535,\n",
       " 348254844,\n",
       " 350038258,\n",
       " 353951241,\n",
       " 357371922,\n",
       " 357580279,\n",
       " 358420792,\n",
       " 365162658,\n",
       " 389893288,\n",
       " 390859504,\n",
       " 399750255,\n",
       " 414498035,\n",
       " 421426315,\n",
       " 421555621,\n",
       " 422705517,\n",
       " 425142292,\n",
       " 428421773,\n",
       " 435675520,\n",
       " 456469066,\n",
       " 458706285,\n",
       " 471392823,\n",
       " 475713699,\n",
       " 479226567,\n",
       " 495297011,\n",
       " 498245766,\n",
       " 503775766,\n",
       " 514724741,\n",
       " 522476968,\n",
       " 534842521,\n",
       " 537429615,\n",
       " 549705040,\n",
       " 550979882,\n",
       " 564824727,\n",
       " 574588395,\n",
       " 574694407,\n",
       " 577486715,\n",
       " 578152965,\n",
       " 591967595,\n",
       " 592730044,\n",
       " 603855643,\n",
       " 612187907,\n",
       " 616448937,\n",
       " 618006243,\n",
       " 623039066,\n",
       " 644084291,\n",
       " 673603196,\n",
       " 675418903,\n",
       " 677868606,\n",
       " 686225185,\n",
       " 701783616,\n",
       " 708090919,\n",
       " 740554644,\n",
       " 747538440,\n",
       " 758245220,\n",
       " 761178603,\n",
       " 763939283,\n",
       " 765787795,\n",
       " 769617755,\n",
       " 769917908,\n",
       " 780642246,\n",
       " 782026185,\n",
       " 784838885,\n",
       " 806687527,\n",
       " 821045874,\n",
       " 836183234,\n",
       " 843100092,\n",
       " 844062959,\n",
       " 849269813,\n",
       " 850078018,\n",
       " 851419613,\n",
       " 855784189,\n",
       " 868944030,\n",
       " 873685085,\n",
       " 876251192,\n",
       " 893177218,\n",
       " 907250207,\n",
       " 923840651,\n",
       " 931331011,\n",
       " 931942319,\n",
       " 934838197,\n",
       " 971185997,\n",
       " 978237661,\n",
       " 988779992,\n",
       " 989026182,\n",
       " 992155943,\n",
       " 994111434,\n",
       " 1005900941,\n",
       " 1006015901,\n",
       " 1022661126,\n",
       " 1023417777,\n",
       " 1062080314,\n",
       " 1066394026,\n",
       " 1093658825,\n",
       " 1093756780,\n",
       " 1099568516,\n",
       " 1100277614,\n",
       " 1103803434,\n",
       " 1112042642,\n",
       " 1112181788,\n",
       " 1134279798,\n",
       " 1135687595,\n",
       " 1149449607,\n",
       " 1170648379,\n",
       " 1185926047,\n",
       " 1195328463,\n",
       " 1195813637,\n",
       " 1198231151,\n",
       " 1200014454,\n",
       " 1202452335,\n",
       " 1205540217,\n",
       " 1212746198,\n",
       " 1219175233,\n",
       " 1223357354,\n",
       " 1230654166,\n",
       " 1233630785,\n",
       " 1236529864,\n",
       " 1241195922,\n",
       " 1270192093,\n",
       " 1288864880,\n",
       " 1332648518,\n",
       " 1337341975,\n",
       " 1345636365,\n",
       " 1346721052,\n",
       " 1354284579,\n",
       " 1363394815,\n",
       " 1366898639,\n",
       " 1371792709,\n",
       " 1379841455,\n",
       " 1379918502,\n",
       " 1382210488,\n",
       " 1399309542,\n",
       " 1405958005,\n",
       " 1408285952,\n",
       " 1409462943,\n",
       " 1413281960,\n",
       " 1417122087,\n",
       " 1442483837,\n",
       " 1444114907,\n",
       " 1454317900,\n",
       " 1463103517,\n",
       " 1473980247,\n",
       " 1476439127,\n",
       " 1479898249,\n",
       " 1486964913,\n",
       " 1489752851,\n",
       " 1492756674,\n",
       " 1497861801,\n",
       " 1508382639,\n",
       " 1512089694,\n",
       " 1516394464,\n",
       " 1518283272,\n",
       " 1520186584,\n",
       " 1528610765,\n",
       " 1543266227,\n",
       " 1548407769,\n",
       " 1558683440,\n",
       " 1565946632,\n",
       " 1582173516,\n",
       " 1583504425,\n",
       " 1587335981,\n",
       " 1604286009,\n",
       " 1605160398,\n",
       " 1610050750,\n",
       " 1615484302,\n",
       " 1626353426,\n",
       " 1637525001,\n",
       " 1653105256,\n",
       " 1657923309,\n",
       " 1663870725,\n",
       " 1667991650,\n",
       " 1676936863,\n",
       " 1678771962,\n",
       " 1680684875,\n",
       " 1680831750,\n",
       " 1686393550,\n",
       " 1708882258,\n",
       " 1722947005,\n",
       " 1725078622,\n",
       " 1728050946,\n",
       " 1730266546,\n",
       " 1741280292,\n",
       " 1748360610,\n",
       " 1750012498,\n",
       " 1762348140,\n",
       " 1798184910,\n",
       " 1798962456,\n",
       " 1811524293,\n",
       " 1817796933,\n",
       " 1819506382,\n",
       " 1822852008,\n",
       " 1829555713,\n",
       " 1830566493,\n",
       " 1831007362,\n",
       " 1853977527,\n",
       " 1862712661,\n",
       " 1870978616,\n",
       " 1875358652,\n",
       " 1880320120,\n",
       " 1882300795,\n",
       " 1882404066,\n",
       " 1893532344,\n",
       " 1897944654,\n",
       " 1903851571,\n",
       " 1904392758,\n",
       " 1906336218,\n",
       " 1913956969,\n",
       " 1930797009,\n",
       " 1934633721,\n",
       " 1943029380,\n",
       " 1945358697,\n",
       " 1946724255,\n",
       " 1956809508,\n",
       " 1969242199,\n",
       " 1977192837,\n",
       " 1978980844,\n",
       " 1979819452,\n",
       " 1983609072,\n",
       " 1985267431,\n",
       " 1989592397,\n",
       " 1992416747,\n",
       " 1996202490,\n",
       " 2010532728,\n",
       " 2028022367,\n",
       " 2029501583,\n",
       " 2034160537,\n",
       " 2036664262,\n",
       " 2038407769,\n",
       " 2040368054,\n",
       " 2055492525,\n",
       " 2067992509,\n",
       " 2089489136,\n",
       " 2093772115,\n",
       " 2095930022,\n",
       " 2119555017,\n",
       " 2125797523,\n",
       " 2147265839}"
      ]
     },
     "execution_count": 14,
     "metadata": {},
     "output_type": "execute_result"
    }
   ],
   "source": [
    "patient_set.difference(patient_set1)"
   ]
  },
  {
   "cell_type": "markdown",
   "metadata": {},
   "source": [
    "## Construction of Homeless Address Indicators\n",
    "\n",
    "\"The homeless address indicators were based on six sources: (1) a comprehen- sive directory of shelter and single-site supportive housing programs provided by housing program staff from Hennepin and Ramsey Counties in response to an open-ended inquiry by electronic mail. We added several other address types noted by local homeless experts to this directory, including (2) the General Delivery Address (GDA)— a free service offered by the U.S. Postal Service for an individual’s mail to be held at the post office; (3) addresses of local homeless service centers collecting mail for homeless clients; (4) free text responses (e.g., “homeless”) recorded in the mailing address section of Medicaid enrollment records synonymous with homelessness; and (5) addresses of institutions commonly used by homeless individuals, including hotels, places of worship, and hospitals (Zech et al. 2015). Finally, (6) within the data, we observed frequent use of the addresses of county administrative offices and added these locations to the directory.\" (Vickery, 2018)\n",
    "\n",
    "\"\n",
    "Category   Includes\n",
    "Keyword    Addresses that include a variant of keywords “homeless” and “undomiciled” \n",
    "Hospital   Addresses of health care facilities participating in Healthix\n",
    "Shelter    Addresses of 270 shelters in New York City and Long Island    \n",
    "Worship    Addresses of 9677 places of worship in New York City and Long Island\n",
    "\" (Zech, 2015)"
   ]
  },
  {
   "cell_type": "code",
   "execution_count": 28,
   "metadata": {},
   "outputs": [
    {
     "name": "stdout",
     "output_type": "stream",
     "text": [
      "Shelters by borough:\n",
      "borough\n",
      "Bronx            204\n",
      "Brooklyn         272\n",
      "Manhattan        187\n",
      "Queens           204\n",
      "Staten Island     17\n",
      "Name: index, dtype: int64\n",
      "Total shelters 884\n"
     ]
    },
    {
     "data": {
      "text/html": [
       "<div>\n",
       "<style scoped>\n",
       "    .dataframe tbody tr th:only-of-type {\n",
       "        vertical-align: middle;\n",
       "    }\n",
       "\n",
       "    .dataframe tbody tr th {\n",
       "        vertical-align: top;\n",
       "    }\n",
       "\n",
       "    .dataframe thead th {\n",
       "        text-align: right;\n",
       "    }\n",
       "</style>\n",
       "<table border=\"1\" class=\"dataframe\">\n",
       "  <thead>\n",
       "    <tr style=\"text-align: right;\">\n",
       "      <th></th>\n",
       "      <th>report_date</th>\n",
       "      <th>borough</th>\n",
       "      <th>community_district</th>\n",
       "      <th>adult_family_shelter</th>\n",
       "      <th>adult_shelter</th>\n",
       "      <th>fwc_cluster</th>\n",
       "      <th>fwc_comm_hotel</th>\n",
       "      <th>fwc_shelter</th>\n",
       "      <th>adult_shelter_comm_hotel</th>\n",
       "      <th>adult_family_comm_hotel</th>\n",
       "    </tr>\n",
       "  </thead>\n",
       "  <tbody>\n",
       "    <tr>\n",
       "      <td>0</td>\n",
       "      <td>2020-01-31T00:00:00.000</td>\n",
       "      <td>Bronx</td>\n",
       "      <td>201</td>\n",
       "      <td>1.0</td>\n",
       "      <td>2.0</td>\n",
       "      <td>4.0</td>\n",
       "      <td>1.0</td>\n",
       "      <td>7.0</td>\n",
       "      <td>NaN</td>\n",
       "      <td>NaN</td>\n",
       "    </tr>\n",
       "    <tr>\n",
       "      <td>1</td>\n",
       "      <td>2020-01-31T00:00:00.000</td>\n",
       "      <td>Staten Island</td>\n",
       "      <td>501</td>\n",
       "      <td>NaN</td>\n",
       "      <td>NaN</td>\n",
       "      <td>NaN</td>\n",
       "      <td>NaN</td>\n",
       "      <td>1.0</td>\n",
       "      <td>NaN</td>\n",
       "      <td>NaN</td>\n",
       "    </tr>\n",
       "    <tr>\n",
       "      <td>2</td>\n",
       "      <td>2020-01-31T00:00:00.000</td>\n",
       "      <td>Queens</td>\n",
       "      <td>414</td>\n",
       "      <td>1.0</td>\n",
       "      <td>NaN</td>\n",
       "      <td>NaN</td>\n",
       "      <td>1.0</td>\n",
       "      <td>1.0</td>\n",
       "      <td>NaN</td>\n",
       "      <td>NaN</td>\n",
       "    </tr>\n",
       "    <tr>\n",
       "      <td>3</td>\n",
       "      <td>2020-01-31T00:00:00.000</td>\n",
       "      <td>Queens</td>\n",
       "      <td>413</td>\n",
       "      <td>NaN</td>\n",
       "      <td>NaN</td>\n",
       "      <td>NaN</td>\n",
       "      <td>2.0</td>\n",
       "      <td>2.0</td>\n",
       "      <td>5.0</td>\n",
       "      <td>NaN</td>\n",
       "    </tr>\n",
       "    <tr>\n",
       "      <td>4</td>\n",
       "      <td>2020-01-31T00:00:00.000</td>\n",
       "      <td>Queens</td>\n",
       "      <td>412</td>\n",
       "      <td>1.0</td>\n",
       "      <td>4.0</td>\n",
       "      <td>NaN</td>\n",
       "      <td>3.0</td>\n",
       "      <td>6.0</td>\n",
       "      <td>7.0</td>\n",
       "      <td>NaN</td>\n",
       "    </tr>\n",
       "  </tbody>\n",
       "</table>\n",
       "</div>"
      ],
      "text/plain": [
       "               report_date        borough  community_district  \\\n",
       "0  2020-01-31T00:00:00.000          Bronx                 201   \n",
       "1  2020-01-31T00:00:00.000  Staten Island                 501   \n",
       "2  2020-01-31T00:00:00.000         Queens                 414   \n",
       "3  2020-01-31T00:00:00.000         Queens                 413   \n",
       "4  2020-01-31T00:00:00.000         Queens                 412   \n",
       "\n",
       "   adult_family_shelter  adult_shelter  fwc_cluster  fwc_comm_hotel  \\\n",
       "0                   1.0            2.0          4.0             1.0   \n",
       "1                   NaN            NaN          NaN             NaN   \n",
       "2                   1.0            NaN          NaN             1.0   \n",
       "3                   NaN            NaN          NaN             2.0   \n",
       "4                   1.0            4.0          NaN             3.0   \n",
       "\n",
       "   fwc_shelter  adult_shelter_comm_hotel  adult_family_comm_hotel  \n",
       "0          7.0                       NaN                      NaN  \n",
       "1          1.0                       NaN                      NaN  \n",
       "2          1.0                       NaN                      NaN  \n",
       "3          2.0                       5.0                      NaN  \n",
       "4          6.0                       7.0                      NaN  "
      ]
     },
     "execution_count": 28,
     "metadata": {},
     "output_type": "execute_result"
    }
   ],
   "source": [
    "# estimating number of shelters between the boroughs\n",
    "shelters = pd.read_json('https://data.cityofnewyork.us/resource/3qem-6v3v.json')\n",
    "# shelters.groupby('borough')['']\n",
    "print('Shelters by borough:')\n",
    "print(shelters.reset_index().groupby('borough').count()['index'])\n",
    "print('Total shelters {}'.format(shelters.shape[0]))\n",
    "shelters.head()"
   ]
  },
  {
   "cell_type": "code",
   "execution_count": 15,
   "metadata": {},
   "outputs": [
    {
     "data": {
      "text/html": [
       "<div>\n",
       "<style scoped>\n",
       "    .dataframe tbody tr th:only-of-type {\n",
       "        vertical-align: middle;\n",
       "    }\n",
       "\n",
       "    .dataframe tbody tr th {\n",
       "        vertical-align: top;\n",
       "    }\n",
       "\n",
       "    .dataframe thead th {\n",
       "        text-align: right;\n",
       "    }\n",
       "</style>\n",
       "<table border=\"1\" class=\"dataframe\">\n",
       "  <thead>\n",
       "    <tr style=\"text-align: right;\">\n",
       "      <th></th>\n",
       "      <th>year_quarter</th>\n",
       "      <th>facility_name</th>\n",
       "      <th>provider_agency</th>\n",
       "      <th>performance_tier</th>\n",
       "    </tr>\n",
       "  </thead>\n",
       "  <tbody>\n",
       "    <tr>\n",
       "      <td>0</td>\n",
       "      <td>2012 Q4</td>\n",
       "      <td>Clinton Family Inn</td>\n",
       "      <td>Homes for the Homeless</td>\n",
       "      <td>1st Performance Tier</td>\n",
       "    </tr>\n",
       "    <tr>\n",
       "      <td>1</td>\n",
       "      <td>2012 Q4</td>\n",
       "      <td>CRF House East</td>\n",
       "      <td>Children's Rescue Fund</td>\n",
       "      <td>1st Performance Tier</td>\n",
       "    </tr>\n",
       "    <tr>\n",
       "      <td>2</td>\n",
       "      <td>2012 Q4</td>\n",
       "      <td>HB - LaGuardia Family Center</td>\n",
       "      <td>Housing Bridge, Inc.</td>\n",
       "      <td>1st Performance Tier</td>\n",
       "    </tr>\n",
       "    <tr>\n",
       "      <td>3</td>\n",
       "      <td>2012 Q4</td>\n",
       "      <td>HB - New Broadway</td>\n",
       "      <td>Housing Bridge, Inc.</td>\n",
       "      <td>1st Performance Tier</td>\n",
       "    </tr>\n",
       "    <tr>\n",
       "      <td>4</td>\n",
       "      <td>2012 Q4</td>\n",
       "      <td>HELP- Bronx Morris</td>\n",
       "      <td>HELP U.S.A</td>\n",
       "      <td>1st Performance Tier</td>\n",
       "    </tr>\n",
       "    <tr>\n",
       "      <td>...</td>\n",
       "      <td>...</td>\n",
       "      <td>...</td>\n",
       "      <td>...</td>\n",
       "      <td>...</td>\n",
       "    </tr>\n",
       "    <tr>\n",
       "      <td>134</td>\n",
       "      <td>2013 Q1</td>\n",
       "      <td>Providence House 7</td>\n",
       "      <td>Providence House, Inc.</td>\n",
       "      <td>6th Performance Tier</td>\n",
       "    </tr>\n",
       "    <tr>\n",
       "      <td>135</td>\n",
       "      <td>2013 Q1</td>\n",
       "      <td>St. John's Place Family Residence</td>\n",
       "      <td>Settlement Housing Fund</td>\n",
       "      <td>6th Performance Tier</td>\n",
       "    </tr>\n",
       "    <tr>\n",
       "      <td>136</td>\n",
       "      <td>2013 Q1</td>\n",
       "      <td>Stockholm Family Residence</td>\n",
       "      <td>SCO</td>\n",
       "      <td>6th Performance Tier</td>\n",
       "    </tr>\n",
       "    <tr>\n",
       "      <td>137</td>\n",
       "      <td>2013 Q1</td>\n",
       "      <td>Theresa Haven</td>\n",
       "      <td>Family Support System</td>\n",
       "      <td>6th Performance Tier</td>\n",
       "    </tr>\n",
       "    <tr>\n",
       "      <td>138</td>\n",
       "      <td>2013 Q1</td>\n",
       "      <td>Williamsbridge Family Inn</td>\n",
       "      <td>Homes for the Homeless</td>\n",
       "      <td>6th Performance Tier</td>\n",
       "    </tr>\n",
       "  </tbody>\n",
       "</table>\n",
       "<p>139 rows × 4 columns</p>\n",
       "</div>"
      ],
      "text/plain": [
       "    year_quarter                      facility_name          provider_agency  \\\n",
       "0        2012 Q4                 Clinton Family Inn   Homes for the Homeless   \n",
       "1        2012 Q4                     CRF House East   Children's Rescue Fund   \n",
       "2        2012 Q4       HB - LaGuardia Family Center     Housing Bridge, Inc.   \n",
       "3        2012 Q4                  HB - New Broadway     Housing Bridge, Inc.   \n",
       "4        2012 Q4                 HELP- Bronx Morris               HELP U.S.A   \n",
       "..           ...                                ...                      ...   \n",
       "134      2013 Q1                 Providence House 7   Providence House, Inc.   \n",
       "135      2013 Q1  St. John's Place Family Residence  Settlement Housing Fund   \n",
       "136      2013 Q1         Stockholm Family Residence                      SCO   \n",
       "137      2013 Q1                      Theresa Haven    Family Support System   \n",
       "138      2013 Q1          Williamsbridge Family Inn   Homes for the Homeless   \n",
       "\n",
       "         performance_tier  \n",
       "0    1st Performance Tier  \n",
       "1    1st Performance Tier  \n",
       "2    1st Performance Tier  \n",
       "3    1st Performance Tier  \n",
       "4    1st Performance Tier  \n",
       "..                    ...  \n",
       "134  6th Performance Tier  \n",
       "135  6th Performance Tier  \n",
       "136  6th Performance Tier  \n",
       "137  6th Performance Tier  \n",
       "138  6th Performance Tier  \n",
       "\n",
       "[139 rows x 4 columns]"
      ]
     },
     "execution_count": 15,
     "metadata": {},
     "output_type": "execute_result"
    }
   ],
   "source": [
    "# family shelter performance\n",
    "shelPerf = pd.read_json('https://data.cityofnewyork.us/resource/y7z5-rhh5.json')\n",
    "shelPerf"
   ]
  },
  {
   "cell_type": "code",
   "execution_count": 18,
   "metadata": {
    "scrolled": true
   },
   "outputs": [
    {
     "name": "stdout",
     "output_type": "stream",
     "text": [
      "NYC Health + Hospitals by borough\n",
      "borough\n",
      "Bronx            14\n",
      "Brooklyn         26\n",
      "Manhattan        24\n",
      "Queens           11\n",
      "Staten Island     3\n",
      "Name: index, dtype: int64\n"
     ]
    }
   ],
   "source": [
    "# NYC Health + Hospitals Locations\n",
    "nychealth = pd.read_json('https://data.cityofnewyork.us/resource/ymhw-9cz9.json')\n",
    "nychealth\n",
    "print('NYC Health + Hospitals by borough')\n",
    "print(nychealth.reset_index().groupby('borough').count()['index'])"
   ]
  },
  {
   "cell_type": "code",
   "execution_count": 3,
   "metadata": {},
   "outputs": [],
   "source": [
    "short_list_data = pd.read_json('https://data.cityofnewyork.us/resource/bmxf-3rd4.json')"
   ]
  },
  {
   "cell_type": "code",
   "execution_count": 4,
   "metadata": {},
   "outputs": [
    {
     "data": {
      "text/html": [
       "<div>\n",
       "<style scoped>\n",
       "    .dataframe tbody tr th:only-of-type {\n",
       "        vertical-align: middle;\n",
       "    }\n",
       "\n",
       "    .dataframe tbody tr th {\n",
       "        vertical-align: top;\n",
       "    }\n",
       "\n",
       "    .dataframe thead th {\n",
       "        text-align: right;\n",
       "    }\n",
       "</style>\n",
       "<table border=\"1\" class=\"dataframe\">\n",
       "  <thead>\n",
       "    <tr style=\"text-align: right;\">\n",
       "      <th></th>\n",
       "      <th>center_name</th>\n",
       "      <th>borough</th>\n",
       "      <th>address</th>\n",
       "      <th>comments</th>\n",
       "      <th>postcode</th>\n",
       "      <th>latitude</th>\n",
       "      <th>longitude</th>\n",
       "      <th>community_board</th>\n",
       "      <th>council_district</th>\n",
       "      <th>census_tract</th>\n",
       "      <th>bin</th>\n",
       "      <th>bbl</th>\n",
       "      <th>nta</th>\n",
       "    </tr>\n",
       "  </thead>\n",
       "  <tbody>\n",
       "    <tr>\n",
       "      <th>0</th>\n",
       "      <td>Mainchance</td>\n",
       "      <td>Manhattan</td>\n",
       "      <td>120 East 32nd Street\\n</td>\n",
       "      <td>Open 24 hours</td>\n",
       "      <td>10016</td>\n",
       "      <td>40.745377</td>\n",
       "      <td>-73.981306</td>\n",
       "      <td>5</td>\n",
       "      <td>2</td>\n",
       "      <td>72</td>\n",
       "      <td>1018469</td>\n",
       "      <td>1008870087</td>\n",
       "      <td>Murray Hill-Kips Bay                          ...</td>\n",
       "    </tr>\n",
       "    <tr>\n",
       "      <th>1</th>\n",
       "      <td>The Living Room</td>\n",
       "      <td>Bronx</td>\n",
       "      <td>1241 Lafayette Avenue\\n</td>\n",
       "      <td>Open 24 hours</td>\n",
       "      <td>10474</td>\n",
       "      <td>40.816530</td>\n",
       "      <td>-73.889742</td>\n",
       "      <td>2</td>\n",
       "      <td>17</td>\n",
       "      <td>93</td>\n",
       "      <td>2006002</td>\n",
       "      <td>2027400100</td>\n",
       "      <td>Hunts Point                                   ...</td>\n",
       "    </tr>\n",
       "    <tr>\n",
       "      <th>2</th>\n",
       "      <td>Olivieri Center</td>\n",
       "      <td>Manhattan</td>\n",
       "      <td>257 West 30th Street\\n</td>\n",
       "      <td>Open from 7:30 a.m.-8:30 p.m. This program rem...</td>\n",
       "      <td>10001</td>\n",
       "      <td>40.749139</td>\n",
       "      <td>-73.994016</td>\n",
       "      <td>5</td>\n",
       "      <td>3</td>\n",
       "      <td>101</td>\n",
       "      <td>1014337</td>\n",
       "      <td>1007800009</td>\n",
       "      <td>Midtown-Midtown South                         ...</td>\n",
       "    </tr>\n",
       "    <tr>\n",
       "      <th>3</th>\n",
       "      <td>The Gathering Place</td>\n",
       "      <td>Brooklyn</td>\n",
       "      <td>2402 Atlantic Avenue\\n</td>\n",
       "      <td>Open from 7:30 a.m.-8:30 p.m. This program rem...</td>\n",
       "      <td>11233</td>\n",
       "      <td>40.676015</td>\n",
       "      <td>-73.905105</td>\n",
       "      <td>16</td>\n",
       "      <td>37</td>\n",
       "      <td>36502</td>\n",
       "      <td>3038666</td>\n",
       "      <td>3014370008</td>\n",
       "      <td>Ocean Hill                                    ...</td>\n",
       "    </tr>\n",
       "    <tr>\n",
       "      <th>4</th>\n",
       "      <td>Project Hospitality</td>\n",
       "      <td>Staten Island</td>\n",
       "      <td>25 Central Avenue\\n</td>\n",
       "      <td>Open from 7:30 a.m.-8:30 p.m. This program rem...</td>\n",
       "      <td>10301</td>\n",
       "      <td>40.641112</td>\n",
       "      <td>-74.076825</td>\n",
       "      <td>1</td>\n",
       "      <td>49</td>\n",
       "      <td>3</td>\n",
       "      <td>5000027</td>\n",
       "      <td>5000050065</td>\n",
       "      <td>West New Brighton-New Brighton-St. George     ...</td>\n",
       "    </tr>\n",
       "  </tbody>\n",
       "</table>\n",
       "</div>"
      ],
      "text/plain": [
       "           center_name        borough                  address  \\\n",
       "0           Mainchance      Manhattan   120 East 32nd Street\\n   \n",
       "1     The Living Room           Bronx  1241 Lafayette Avenue\\n   \n",
       "2      Olivieri Center      Manhattan   257 West 30th Street\\n   \n",
       "3  The Gathering Place       Brooklyn   2402 Atlantic Avenue\\n   \n",
       "4  Project Hospitality  Staten Island      25 Central Avenue\\n   \n",
       "\n",
       "                                            comments  postcode   latitude  \\\n",
       "0                                      Open 24 hours     10016  40.745377   \n",
       "1                                      Open 24 hours     10474  40.816530   \n",
       "2  Open from 7:30 a.m.-8:30 p.m. This program rem...     10001  40.749139   \n",
       "3  Open from 7:30 a.m.-8:30 p.m. This program rem...     11233  40.676015   \n",
       "4  Open from 7:30 a.m.-8:30 p.m. This program rem...     10301  40.641112   \n",
       "\n",
       "   longitude  community_board  council_district  census_tract      bin  \\\n",
       "0 -73.981306                5                 2            72  1018469   \n",
       "1 -73.889742                2                17            93  2006002   \n",
       "2 -73.994016                5                 3           101  1014337   \n",
       "3 -73.905105               16                37         36502  3038666   \n",
       "4 -74.076825                1                49             3  5000027   \n",
       "\n",
       "          bbl                                                nta  \n",
       "0  1008870087  Murray Hill-Kips Bay                          ...  \n",
       "1  2027400100  Hunts Point                                   ...  \n",
       "2  1007800009  Midtown-Midtown South                         ...  \n",
       "3  3014370008  Ocean Hill                                    ...  \n",
       "4  5000050065  West New Brighton-New Brighton-St. George     ...  "
      ]
     },
     "execution_count": 4,
     "metadata": {},
     "output_type": "execute_result"
    }
   ],
   "source": [
    "short_list_data"
   ]
  },
  {
   "cell_type": "markdown",
   "metadata": {},
   "source": [
    "## Exploring Medical Note Sections\n"
   ]
  },
  {
   "cell_type": "code",
   "execution_count": 10,
   "metadata": {},
   "outputs": [],
   "source": [
    "from util import load_dbmi\n",
    "import numpy as np"
   ]
  },
  {
   "cell_type": "code",
   "execution_count": 15,
   "metadata": {},
   "outputs": [
    {
     "data": {
      "text/plain": [
       "{'CURRENT SMOKER', 'NON-SMOKER', 'PAST SMOKER', 'SMOKER', 'UNKNOWN'}"
      ]
     },
     "execution_count": 15,
     "metadata": {},
     "output_type": "execute_result"
    }
   ],
   "source": [
    "filename = r'data/smokers_surrogate_train_all_version2.xml'\n",
    "notes, smoking = load_dbmi(filename, mode = 'smoking')\n",
    "set(smoking)"
   ]
  },
  {
   "cell_type": "code",
   "execution_count": 21,
   "metadata": {},
   "outputs": [
    {
     "name": "stdout",
     "output_type": "stream",
     "text": [
      "0.28391959798994976\n",
      "0.2864321608040201\n",
      "0.625\n"
     ]
    }
   ],
   "source": [
    "print(np.mean('\"SOCIAL HISTORY\" section is present in {} of notes.'.format([1 if \"SOCIAL HISTORY\" in note else 0 for note in notes])))\n",
    "\n",
    "count = 0\n",
    "for i in range(len(smoking)):\n",
    "    if (smoking[i] in ['CURRENT SMOKER', 'PAST SMOKER', 'SMOKER']) and (\"SOCIAL HISTORY\" in notes[i]):\n",
    "        count += 1\n",
    "\n",
    "print(count/sum([1 if smok in ['CURRENT SMOKER', 'PAST SMOKER', 'SMOKER'] else 0 for smok in smoking]))"
   ]
  },
  {
   "cell_type": "markdown",
   "metadata": {},
   "source": [
    "## Parsing Physician Notes\n",
    "\n",
    "The following code segments parses clinical notes, vectorizises them, and then implements a variety of machine learning algorithms to classify and cluster similar notes. Currently, the data being used focuses on smokers and non-smokers, but soon we will use data that focuses on homeless and house patients. One clustering method, K-Means Clutering, and 3 classification methods, K-Nearest Neighbors, Logistic Regression, and a Neural Network approach, are implemented below."
   ]
  },
  {
   "cell_type": "code",
   "execution_count": 1,
   "metadata": {},
   "outputs": [
    {
     "name": "stdout",
     "output_type": "stream",
     "text": [
      "Loaded word vectors successfully!\n"
     ]
    }
   ],
   "source": [
    "#Load util files and word embeddings\n",
    "\n",
    "from utilOld import load_dbmi, load_deid, load_smoking\n",
    "import numpy as np\n",
    "import gensim\n",
    "word2vec = gensim.models.KeyedVectors.load_word2vec_format(\"GoogleNews-vectors-negative300.bin.gz\", binary=True)\n",
    "#word2vec = gensim.models.KeyedVectors.load_word2vec_format(\"PubMed-w2v.bin\", binary=True)\n",
    "print(\"Loaded word vectors successfully!\")"
   ]
  },
  {
   "cell_type": "code",
   "execution_count": 2,
   "metadata": {},
   "outputs": [
    {
     "name": "stdout",
     "output_type": "stream",
     "text": [
      "1033, 33\n"
     ]
    }
   ],
   "source": [
    "#Load data and separate smoker and non-smoker notes\n",
    "\n",
    "id_data = load_dbmi(\"data/test_deid_surrogate_train_all_version2.xml\", mode='deid')\n",
    "smoker_data = load_dbmi(\"data/smokers_surrogate_train_all_version2.xml\", mode = 'smoking')\n",
    "id_data = [i.replace('\\n','') for i in id_data]\n",
    "smoker_data = [i.replace('\\n','') for i in smoker_data] \n",
    "        \n",
    "smoker_notes = []\n",
    "non_smoker_notes = []\n",
    "for i in id_data:\n",
    "    if \"smoker\" in i:\n",
    "        smoker_notes.append(i)\n",
    "    else:\n",
    "        non_smoker_notes.append(i)\n",
    "        \n",
    "for i in smoker_data:\n",
    "    if \"smoker\" in i:\n",
    "        smoker_notes.append(i)\n",
    "    else:\n",
    "        non_smoker_notes.append(i)\n",
    "\n",
    "all_notes = smoker_notes + non_smoker_notes\n",
    "\n",
    "print(str(len(non_smoker_notes)) + ', ' + str(len(smoker_notes)))"
   ]
  },
  {
   "cell_type": "code",
   "execution_count": 3,
   "metadata": {},
   "outputs": [
    {
     "data": {
      "text/plain": [
       "\"\\n#Preprocessing Notes -- Made the off the shelf methods WORSE\\nimport nltk\\nnltk.download('wordnet')\\nfrom nltk.corpus import wordnet\\nfrom nltk.stem import WordNetLemmatizer \\nfrom nltk.corpus import stopwords\\nfrom nltk.tokenize import RegexpTokenizer\\n\\nsmoker_tokens=[]\\nfor line in smoker_notes: \\n    #remove stopwords\\n    line = line.lower()\\n    tokenizer = RegexpTokenizer(r'\\\\w+')\\n    tokens = tokenizer.tokenize(line)\\n    tokens = [word for word in tokens if word not in stopwords.words('english')]\\n    my_string = ' '.join(tokens)\\n    smoker_tokens.append(my_string)\\n\\nnon_smoker_tokens=[]\\nfor line in non_smoker_notes: \\n    #remove stopwords\\n    line = line.lower()\\n    tokenizer = RegexpTokenizer(r'\\\\w+')\\n    tokens = tokenizer.tokenize(line)\\n    tokens = [word for word in tokens if word not in stopwords.words('english')]\\n    my_string = ' '.join(tokens)\\n    non_smoker_tokens.append(my_string)\\n\""
      ]
     },
     "execution_count": 3,
     "metadata": {},
     "output_type": "execute_result"
    }
   ],
   "source": [
    "#Tokenize notes\n",
    "'''\n",
    "#Preprocessing Notes -- Made the off the shelf methods WORSE\n",
    "import nltk\n",
    "nltk.download('wordnet')\n",
    "from nltk.corpus import wordnet\n",
    "from nltk.stem import WordNetLemmatizer \n",
    "from nltk.corpus import stopwords\n",
    "from nltk.tokenize import RegexpTokenizer\n",
    "\n",
    "smoker_tokens=[]\n",
    "for line in smoker_notes: \n",
    "    #remove stopwords\n",
    "    line = line.lower()\n",
    "    tokenizer = RegexpTokenizer(r'\\w+')\n",
    "    tokens = tokenizer.tokenize(line)\n",
    "    tokens = [word for word in tokens if word not in stopwords.words('english')]\n",
    "    my_string = ' '.join(tokens)\n",
    "    smoker_tokens.append(my_string)\n",
    "\n",
    "non_smoker_tokens=[]\n",
    "for line in non_smoker_notes: \n",
    "    #remove stopwords\n",
    "    line = line.lower()\n",
    "    tokenizer = RegexpTokenizer(r'\\w+')\n",
    "    tokens = tokenizer.tokenize(line)\n",
    "    tokens = [word for word in tokens if word not in stopwords.words('english')]\n",
    "    my_string = ' '.join(tokens)\n",
    "    non_smoker_tokens.append(my_string)\n",
    "'''"
   ]
  },
  {
   "cell_type": "code",
   "execution_count": 4,
   "metadata": {},
   "outputs": [
    {
     "name": "stdout",
     "output_type": "stream",
     "text": [
      "(33, 300)\n",
      "(533, 300)\n"
     ]
    }
   ],
   "source": [
    "#Vectorize Smoker and Non-Smoker Notes\n",
    "def doc_to_vec(sentence, word2vec):\n",
    "    # get list of word vectors in sentence\n",
    "    word_vecs = [word2vec.get_vector(w) for w in sentence.split() if w in word2vec.vocab]\n",
    "    # return average\n",
    "    stack = np.asarray(word_vecs).mean(0)\n",
    "    if stack.all() != None:\n",
    "        return np.stack(stack)\n",
    "                    \n",
    "smoker_notes_vec = np.array([doc_to_vec(i, word2vec) for i in smoker_notes])\n",
    "non_smoker_notes_vec = np.array([doc_to_vec(i, word2vec) for i in non_smoker_notes[500:]])\n",
    "#There is an issue with one of the non-smoker notes beween indexes 30 and 40... Hence the arbitrary division of data\n",
    "\n",
    "print(smoker_notes_vec.shape)\n",
    "print(non_smoker_notes_vec.shape)"
   ]
  },
  {
   "cell_type": "code",
   "execution_count": 5,
   "metadata": {},
   "outputs": [
    {
     "name": "stdout",
     "output_type": "stream",
     "text": [
      "33\n",
      "566\n"
     ]
    },
    {
     "data": {
      "image/png": "[encoded data removed]",
      "text/plain": [
       "<Figure size 432x288 with 1 Axes>"
      ]
     },
     "metadata": {
      "needs_background": "light"
     },
     "output_type": "display_data"
    },
    {
     "data": {
      "image/png": "[encoded data removed]",
      "text/plain": [
       "<Figure size 432x288 with 1 Axes>"
      ]
     },
     "metadata": {
      "needs_background": "light"
     },
     "output_type": "display_data"
    },
    {
     "data": {
      "image/png": "[encoded data removed]",
      "text/plain": [
       "<Figure size 432x288 with 1 Axes>"
      ]
     },
     "metadata": {
      "needs_background": "light"
     },
     "output_type": "display_data"
    }
   ],
   "source": [
    "import matplotlib.pyplot as plt\n",
    "from sklearn.decomposition import PCA\n",
    "\n",
    "#Creating lables, or a y array, for the daya\n",
    "allData = []\n",
    "yLabels = []\n",
    "\n",
    "for i in smoker_notes_vec:\n",
    "    allData.append(i)\n",
    "    yLabels.append(0)\n",
    "print(len(allData))\n",
    "for i in non_smoker_notes_vec:\n",
    "    allData.append(i)\n",
    "    yLabels.append(1)\n",
    "print(len(allData))\n",
    "#PCA so the data can be plotted \n",
    "pca = PCA(n_components=2)\n",
    "\n",
    "allDataPCA = pca.fit_transform(allData)\n",
    "\n",
    "#Plotting Smoker and Non-Smoker Data on the same graph\n",
    "plt.scatter(*zip(*allDataPCA[34:]), color='blue')\n",
    "plt.scatter(*zip(*allDataPCA[:34]), color='red')\n",
    "plt.xlim(-.4, 1.4)\n",
    "plt.ylim(-.6, .6)\n",
    "plt.show()\n",
    "\n",
    "'''\n",
    "plt.scatter(*zip(*allDataPCA[34:]), color='blue')\n",
    "plt.xlim(-.4, 1.4)\n",
    "plt.ylim(-.6, .6)\n",
    "plt.show()\n",
    "\n",
    "plt.scatter(*zip(*allDataPCA[:34]), color='red')\n",
    "plt.xlim(-.4, 1.4)\n",
    "plt.ylim(-.6, .6)\n",
    "plt.show()\n",
    "'''"
   ]
  },
  {
   "cell_type": "code",
   "execution_count": 7,
   "metadata": {},
   "outputs": [
    {
     "name": "stdout",
     "output_type": "stream",
     "text": [
      "0.9393939393939394\n"
     ]
    },
    {
     "data": {
      "image/png": "[encoded data removed]",
      "text/plain": [
       "<Figure size 432x288 with 1 Axes>"
      ]
     },
     "metadata": {
      "needs_background": "light"
     },
     "output_type": "display_data"
    }
   ],
   "source": [
    "from sklearn.cluster import KMeans\n",
    "\n",
    "y_pred = KMeans(n_clusters=2, random_state=0).fit_predict(allDataPCA)\n",
    "\n",
    "rightSmoker = 0\n",
    "for i in range(len(y_pred)):\n",
    "    if yLabels[i] == 0:\n",
    "        if y_pred[i] == yLabels[i]:\n",
    "            rightSmoker += 1\n",
    "\n",
    "accuracy = rightSmoker/33 #There are 192 totoal test notes, 33 smoker and 192-33 non-smoker\n",
    "print(accuracy)\n",
    "\n",
    "class1 = []\n",
    "class2 = []\n",
    "\n",
    "for a in range(len(allDataPCA)-1):\n",
    "    if y_pred[a] == 0:\n",
    "        class1.append(allDataPCA[a])\n",
    "    else:\n",
    "        class2.append(allDataPCA[a])\n",
    "\n",
    "plt.scatter(*zip(*class2), color='blue')\n",
    "plt.scatter(*zip(*class1), color='red')\n",
    "plt.xlim(-.4, 1.4)\n",
    "plt.ylim(-.6, .6)\n",
    "plt.show()"
   ]
  },
  {
   "cell_type": "code",
   "execution_count": 8,
   "metadata": {},
   "outputs": [
    {
     "name": "stdout",
     "output_type": "stream",
     "text": [
      "14\n",
      "241\n"
     ]
    }
   ],
   "source": [
    "# 60/40 Train Test split -- Anu, clean this up a bit thanks\n",
    "train_data = []\n",
    "yLabels_train = []\n",
    "\n",
    "for i in range(int(len(smoker_notes_vec)*.6)):\n",
    "    train_data.append(allDataPCA[i])\n",
    "    yLabels_train.append(0)\n",
    "for i in range(int(len(smoker_notes_vec)),int(len(allData)*.6)):\n",
    "    train_data.append(allDataPCA[i])\n",
    "    yLabels_train.append(1)\n",
    "    \n",
    "test_data = []\n",
    "yLabels_test = []\n",
    "\n",
    "for i in range(int(len(smoker_notes_vec)*.6),int(len(smoker_notes_vec))):\n",
    "    test_data.append(allDataPCA[i])\n",
    "    yLabels_test.append(0)\n",
    "print(len(test_data))\n",
    "for i in range(int(len(allData)*.6),int(len(allData))):\n",
    "    test_data.append(allDataPCA[i])\n",
    "    yLabels_test.append(1)\n",
    "print(len(test_data))"
   ]
  },
  {
   "cell_type": "code",
   "execution_count": 10,
   "metadata": {},
   "outputs": [
    {
     "name": "stdout",
     "output_type": "stream",
     "text": [
      "241\n",
      "0.42857142857142855\n"
     ]
    },
    {
     "data": {
      "image/png": "[encoded data removed]",
      "text/plain": [
       "<Figure size 432x288 with 1 Axes>"
      ]
     },
     "metadata": {
      "needs_background": "light"
     },
     "output_type": "display_data"
    },
    {
     "data": {
      "image/png": "[encoded data removed]",
      "text/plain": [
       "<Figure size 432x288 with 1 Axes>"
      ]
     },
     "metadata": {
      "needs_background": "light"
     },
     "output_type": "display_data"
    },
    {
     "data": {
      "image/png": "[encoded data removed]",
      "text/plain": [
       "<Figure size 432x288 with 1 Axes>"
      ]
     },
     "metadata": {
      "needs_background": "light"
     },
     "output_type": "display_data"
    }
   ],
   "source": [
    "from sklearn.neighbors import KNeighborsClassifier\n",
    "\n",
    "knn = KNeighborsClassifier(n_neighbors=1, metric='euclidean')\n",
    "knn.fit(train_data, yLabels_train)\n",
    "\n",
    "y_pred = knn.predict(test_data)\n",
    "print(len(test_data))\n",
    "\n",
    "rightSmoker = 0\n",
    "for i in range(len(y_pred)):\n",
    "    if yLabels_test[i] == 0:\n",
    "        if y_pred[i] == yLabels_test[i]:\n",
    "            rightSmoker += 1\n",
    "\n",
    "accuracy = rightSmoker/14 #There are 241 totoal test notes, 14 smoker and 241-14 non-smoker\n",
    "print(accuracy)\n",
    "\n",
    "class1 = []\n",
    "class2 = []\n",
    "\n",
    "for a in range(len(test_data)-1):\n",
    "    if y_pred[a] == 0:\n",
    "        class1.append(test_data[a])\n",
    "    else:\n",
    "        class2.append(test_data[a])\n",
    "\n",
    "plt.scatter(*zip(*class2), color='blue')\n",
    "plt.scatter(*zip(*class1), color='red')\n",
    "plt.xlim(-.4, 1.4)\n",
    "plt.ylim(-.6, .6)\n",
    "plt.show()\n",
    "\n",
    "'''\n",
    "plt.scatter(*zip(*class1), color='red')\n",
    "plt.xlim(-.4, 1.4)\n",
    "plt.ylim(-.6, .6)\n",
    "plt.show()\n",
    "\n",
    "plt.scatter(*zip(*class2), color='blue')\n",
    "plt.xlim(-.4, 1.4)\n",
    "plt.ylim(-.6, .6)\n",
    "plt.show()\n",
    "'''"
   ]
  },
  {
   "cell_type": "code",
   "execution_count": 12,
   "metadata": {},
   "outputs": [
    {
     "name": "stdout",
     "output_type": "stream",
     "text": [
      "[1 1 1 1 1 1 1 1 1 1 1 1 1 1 1 1 1 1 1 1 1 1 1 1 1 1 1 1 1 1 1 1 1 1 1 1 1\n",
      " 1 1 1 1 1 1 1 1 1 1 1 1 1 1 1 1 1 1 1 1 1 1 1 1 1 1 1 1 1 1 1 1 1 1 1 1 1\n",
      " 1 1 1 1 1 1 1 1 1 1 1 1 1 1 1 1 1 1 1 1 1 1 1 1 1 1 1 1 1 1 1 1 1 1 1 1 1\n",
      " 1 1 1 1 1 1 1 1 1 1 1 1 1 1 1 1 1 1 1 1 1 1 1 1 1 1 1 1 1 1 1 1 1 1 1 1 1\n",
      " 1 1 1 1 1 1 1 1 1 1 1 1 1 1 1 1 1 1 1 1 1 1 1 1 1 1 1 1 1 1 1 1 1 1 1 1 1\n",
      " 1 1 1 1 1 1 1 1 1 1 1 1 1 1 1 1 1 1 1 1 1 1 1 1 1 1 1 1 1 1 1 1 1 1 1 1 1\n",
      " 1 1 1 1 1 1 1 1 1 1 1 1 1 1 1 1 1 1 1]\n"
     ]
    }
   ],
   "source": [
    "#logistic Regression\n",
    "from sklearn.linear_model import LogisticRegression\n",
    "\n",
    "clf = LogisticRegression(random_state=0).fit(train_data, yLabels_train)\n",
    "#print(clf.predict(test_data))\n",
    "#print(clf.score(test_data, yLabels_test))\n",
    "\n",
    "#Predicts all notes to be non-smoker notes"
   ]
  },
  {
   "cell_type": "code",
   "execution_count": 13,
   "metadata": {},
   "outputs": [
    {
     "name": "stdout",
     "output_type": "stream",
     "text": [
      "14\n",
      "241\n"
     ]
    }
   ],
   "source": [
    "# 60/40 Train Test split with non-PCA Data -- Anu, clean this up a bit thanks\n",
    "\n",
    "train_data_keras = []\n",
    "yLabels_train_keras = []\n",
    "\n",
    "for i in range(int(len(smoker_notes_vec)*.6)):\n",
    "    train_data_keras.append(allData[i])\n",
    "    yLabels_train_keras.append(0)\n",
    "for i in range(int(len(smoker_notes_vec)),int(len(allData)*.6)):\n",
    "    train_data_keras.append(allData[i])\n",
    "    yLabels_train_keras.append(1)\n",
    "    \n",
    "test_data_keras = []\n",
    "yLabels_test_keras = []\n",
    "\n",
    "for i in range(int(len(smoker_notes_vec)*.6), int(len(smoker_notes_vec))):\n",
    "    test_data_keras.append(allData[i])\n",
    "    yLabels_test_keras.append(0)\n",
    "print(len(test_data_keras))\n",
    "for i in range(int(len(allData)*.6),len(allData)):\n",
    "    test_data_keras.append(allData[i])\n",
    "    yLabels_test_keras.append(1)\n",
    "print(len(test_data_keras))\n",
    "\n",
    "train_data_keras = np.asarray(train_data_keras)\n",
    "yLabels_train_keras = np.asarray(yLabels_train_keras)\n",
    "test_data_keras = np.asarray(test_data_keras)\n",
    "yLabels_test_keras = np.asarray(yLabels_test_keras)"
   ]
  },
  {
   "cell_type": "code",
   "execution_count": 15,
   "metadata": {},
   "outputs": [
    {
     "name": "stdout",
     "output_type": "stream",
     "text": [
      "Epoch 1/100\n",
      "325/325 [==============================] - 2s 6ms/step - loss: 0.0640\n",
      "Epoch 2/100\n",
      "325/325 [==============================] - 1s 2ms/step - loss: 0.0734\n",
      "Epoch 3/100\n",
      "325/325 [==============================] - 1s 3ms/step - loss: 0.0728\n",
      "Epoch 4/100\n",
      "325/325 [==============================] - 1s 2ms/step - loss: 0.0572\n",
      "Epoch 5/100\n",
      "325/325 [==============================] - 1s 3ms/step - loss: 0.0621\n",
      "Epoch 6/100\n",
      "325/325 [==============================] - 1s 3ms/step - loss: 0.0660\n",
      "Epoch 7/100\n",
      "325/325 [==============================] - 1s 2ms/step - loss: 0.0596\n",
      "Epoch 8/100\n",
      "325/325 [==============================] - 1s 2ms/step - loss: 0.0630\n",
      "Epoch 9/100\n",
      "325/325 [==============================] - 1s 3ms/step - loss: 0.0649\n",
      "Epoch 10/100\n",
      "325/325 [==============================] - 1s 2ms/step - loss: 0.0651\n",
      "Epoch 11/100\n",
      "325/325 [==============================] - 1s 2ms/step - loss: 0.0715\n",
      "Epoch 12/100\n",
      "325/325 [==============================] - 0s 1ms/step - loss: 0.0558\n",
      "Epoch 13/100\n",
      "325/325 [==============================] - 1s 2ms/step - loss: 0.0541\n",
      "Epoch 14/100\n",
      "325/325 [==============================] - 1s 2ms/step - loss: 0.0531\n",
      "Epoch 15/100\n",
      "325/325 [==============================] - 1s 2ms/step - loss: 0.0475\n",
      "Epoch 16/100\n",
      "325/325 [==============================] - 1s 3ms/step - loss: 0.0575\n",
      "Epoch 17/100\n",
      "325/325 [==============================] - 1s 2ms/step - loss: 0.0539\n",
      "Epoch 18/100\n",
      "325/325 [==============================] - 1s 2ms/step - loss: 0.0518\n",
      "Epoch 19/100\n",
      "325/325 [==============================] - 1s 2ms/step - loss: 0.0491\n",
      "Epoch 20/100\n",
      "325/325 [==============================] - 1s 2ms/step - loss: 0.0596\n",
      "Epoch 21/100\n",
      "325/325 [==============================] - 1s 2ms/step - loss: 0.0462\n",
      "Epoch 22/100\n",
      "325/325 [==============================] - 1s 2ms/step - loss: 0.0458\n",
      "Epoch 23/100\n",
      "325/325 [==============================] - 1s 2ms/step - loss: 0.0477\n",
      "Epoch 24/100\n",
      "325/325 [==============================] - 1s 2ms/step - loss: 0.0429\n",
      "Epoch 25/100\n",
      "325/325 [==============================] - 1s 2ms/step - loss: 0.0437\n",
      "Epoch 26/100\n",
      "325/325 [==============================] - 1s 2ms/step - loss: 0.0389\n",
      "Epoch 27/100\n",
      "325/325 [==============================] - 1s 2ms/step - loss: 0.0373\n",
      "Epoch 28/100\n",
      "325/325 [==============================] - 1s 2ms/step - loss: 0.0369\n",
      "Epoch 29/100\n",
      "325/325 [==============================] - 1s 2ms/step - loss: 0.0399\n",
      "Epoch 30/100\n",
      "325/325 [==============================] - 1s 3ms/step - loss: 0.0357\n",
      "Epoch 31/100\n",
      "325/325 [==============================] - 1s 3ms/step - loss: 0.0349\n",
      "Epoch 32/100\n",
      "325/325 [==============================] - 1s 3ms/step - loss: 0.0394\n",
      "Epoch 33/100\n",
      "325/325 [==============================] - 1s 2ms/step - loss: 0.0390\n",
      "Epoch 34/100\n",
      "325/325 [==============================] - 1s 2ms/step - loss: 0.0337\n",
      "Epoch 35/100\n",
      "325/325 [==============================] - 1s 2ms/step - loss: 0.0465\n",
      "Epoch 36/100\n",
      "325/325 [==============================] - 1s 3ms/step - loss: 0.0346\n",
      "Epoch 37/100\n",
      "325/325 [==============================] - 1s 3ms/step - loss: 0.0350\n",
      "Epoch 38/100\n",
      "325/325 [==============================] - 1s 2ms/step - loss: 0.0286\n",
      "Epoch 39/100\n",
      "325/325 [==============================] - 1s 2ms/step - loss: 0.0263\n",
      "Epoch 40/100\n",
      "325/325 [==============================] - 1s 3ms/step - loss: 0.0270\n",
      "Epoch 41/100\n",
      "325/325 [==============================] - 1s 2ms/step - loss: 0.0217\n",
      "Epoch 42/100\n",
      "325/325 [==============================] - 1s 2ms/step - loss: 0.0229\n",
      "Epoch 43/100\n",
      "325/325 [==============================] - 1s 3ms/step - loss: 0.0192\n",
      "Epoch 44/100\n",
      "325/325 [==============================] - 1s 3ms/step - loss: 0.0223\n",
      "Epoch 45/100\n",
      "325/325 [==============================] - 1s 4ms/step - loss: 0.0210\n",
      "Epoch 46/100\n",
      "325/325 [==============================] - 1s 3ms/step - loss: 0.0202\n",
      "Epoch 47/100\n",
      "325/325 [==============================] - 1s 2ms/step - loss: 0.0165\n",
      "Epoch 48/100\n",
      "325/325 [==============================] - 1s 3ms/step - loss: 0.0148\n",
      "Epoch 49/100\n",
      "325/325 [==============================] - 1s 3ms/step - loss: 0.0193\n",
      "Epoch 50/100\n",
      "325/325 [==============================] - 1s 3ms/step - loss: 0.0152\n",
      "Epoch 51/100\n",
      "325/325 [==============================] - 1s 3ms/step - loss: 0.0166\n",
      "Epoch 52/100\n",
      "325/325 [==============================] - 1s 3ms/step - loss: 0.0132\n",
      "Epoch 53/100\n",
      "325/325 [==============================] - 1s 2ms/step - loss: 0.0110\n",
      "Epoch 54/100\n",
      "325/325 [==============================] - 1s 2ms/step - loss: 0.0120\n",
      "Epoch 55/100\n",
      "325/325 [==============================] - 0s 2ms/step - loss: 0.0075\n",
      "Epoch 56/100\n",
      "325/325 [==============================] - 1s 2ms/step - loss: 0.0108\n",
      "Epoch 57/100\n",
      "325/325 [==============================] - 1s 2ms/step - loss: 0.0071\n",
      "Epoch 58/100\n",
      "325/325 [==============================] - 1s 2ms/step - loss: 0.0065\n",
      "Epoch 59/100\n",
      "325/325 [==============================] - 1s 2ms/step - loss: 0.0080\n",
      "Epoch 60/100\n",
      "325/325 [==============================] - 1s 3ms/step - loss: 0.0099\n",
      "Epoch 61/100\n",
      "325/325 [==============================] - 1s 2ms/step - loss: 0.0040\n",
      "Epoch 62/100\n",
      "325/325 [==============================] - 1s 2ms/step - loss: 0.0034\n",
      "Epoch 63/100\n",
      "325/325 [==============================] - 1s 2ms/step - loss: 0.0034\n",
      "Epoch 64/100\n",
      "325/325 [==============================] - 1s 2ms/step - loss: 0.0032\n",
      "Epoch 65/100\n",
      "325/325 [==============================] - 1s 2ms/step - loss: 0.0021\n",
      "Epoch 66/100\n",
      "325/325 [==============================] - 1s 2ms/step - loss: 0.0023\n",
      "Epoch 67/100\n",
      "325/325 [==============================] - 1s 2ms/step - loss: 0.0017\n",
      "Epoch 68/100\n",
      "325/325 [==============================] - 1s 3ms/step - loss: 0.0012\n",
      "Epoch 69/100\n",
      "325/325 [==============================] - 1s 2ms/step - loss: 0.0012\n",
      "Epoch 70/100\n",
      "325/325 [==============================] - 1s 2ms/step - loss: 0.0013\n",
      "Epoch 71/100\n",
      "325/325 [==============================] - 1s 2ms/step - loss: 9.4280e-04\n",
      "Epoch 72/100\n",
      "325/325 [==============================] - 1s 2ms/step - loss: 0.0012\n",
      "Epoch 73/100\n",
      "325/325 [==============================] - 1s 2ms/step - loss: 7.7713e-04\n",
      "Epoch 74/100\n",
      "325/325 [==============================] - 1s 2ms/step - loss: 5.1677e-04\n",
      "Epoch 75/100\n",
      "325/325 [==============================] - 1s 2ms/step - loss: 6.5083e-04\n",
      "Epoch 76/100\n",
      "325/325 [==============================] - 1s 2ms/step - loss: 3.6521e-04\n",
      "Epoch 77/100\n",
      "325/325 [==============================] - 1s 2ms/step - loss: 3.2941e-04\n",
      "Epoch 78/100\n",
      "325/325 [==============================] - 1s 2ms/step - loss: 3.1840e-04\n",
      "Epoch 79/100\n",
      "325/325 [==============================] - 0s 2ms/step - loss: 2.9935e-04\n",
      "Epoch 80/100\n",
      "325/325 [==============================] - 1s 2ms/step - loss: 2.8233e-04\n",
      "Epoch 81/100\n",
      "325/325 [==============================] - 1s 2ms/step - loss: 3.3507e-04\n",
      "Epoch 82/100\n",
      "325/325 [==============================] - 1s 2ms/step - loss: 5.1592e-04\n",
      "Epoch 83/100\n",
      "325/325 [==============================] - 1s 2ms/step - loss: 0.0013\n",
      "Epoch 84/100\n",
      "325/325 [==============================] - 1s 2ms/step - loss: 8.2001e-04\n",
      "Epoch 85/100\n",
      "325/325 [==============================] - 1s 3ms/step - loss: 0.0023\n",
      "Epoch 86/100\n",
      "325/325 [==============================] - 1s 2ms/step - loss: 0.0011\n",
      "Epoch 87/100\n",
      "325/325 [==============================] - 1s 2ms/step - loss: 4.0385e-04\n",
      "Epoch 88/100\n",
      "325/325 [==============================] - 1s 2ms/step - loss: 2.1339e-04\n",
      "Epoch 89/100\n",
      "325/325 [==============================] - 1s 3ms/step - loss: 1.6093e-04\n",
      "Epoch 90/100\n",
      "325/325 [==============================] - 1s 2ms/step - loss: 1.4970e-04\n",
      "Epoch 91/100\n",
      "325/325 [==============================] - 1s 2ms/step - loss: 1.3622e-04\n",
      "Epoch 92/100\n",
      "325/325 [==============================] - 1s 2ms/step - loss: 2.3178e-04\n",
      "Epoch 93/100\n",
      "325/325 [==============================] - 1s 3ms/step - loss: 4.8763e-04\n",
      "Epoch 94/100\n",
      "325/325 [==============================] - 1s 3ms/step - loss: 1.2621e-04\n",
      "Epoch 95/100\n",
      "325/325 [==============================] - 1s 2ms/step - loss: 1.1687e-04\n",
      "Epoch 96/100\n",
      "325/325 [==============================] - 1s 3ms/step - loss: 1.0879e-04\n",
      "Epoch 97/100\n",
      "325/325 [==============================] - 1s 3ms/step - loss: 1.0895e-04\n",
      "Epoch 98/100\n"
     ]
    },
    {
     "name": "stdout",
     "output_type": "stream",
     "text": [
      "325/325 [==============================] - 1s 2ms/step - loss: 9.7082e-05\n",
      "Epoch 99/100\n",
      "325/325 [==============================] - 1s 2ms/step - loss: 1.2309e-04\n",
      "Epoch 100/100\n",
      "325/325 [==============================] - 1s 2ms/step - loss: 1.0806e-04\n"
     ]
    },
    {
     "name": "stderr",
     "output_type": "stream",
     "text": [
      "//anaconda3/lib/python3.7/site-packages/keras/engine/sequential.py:248: UserWarning: Network returning invalid probability values. The last layer might not normalize predictions into probabilities (like softmax or sigmoid would).\n",
      "  warnings.warn('Network returning invalid probability values. '\n"
     ]
    }
   ],
   "source": [
    "#Neural Network Implementation\n",
    "import keras\n",
    "from keras.models import Sequential\n",
    "from keras.layers import Dense\n",
    "from keras.wrappers.scikit_learn import KerasClassifier\n",
    "from sklearn.model_selection import StratifiedKFold\n",
    "from sklearn.model_selection import cross_val_score\n",
    "\n",
    "#adam = keras.optimizers.Adam(lr=0.0005, beta_1=0.9, beta_2=0.999, epsilon=1e-10, decay=0)\n",
    "\n",
    "model = Sequential()\n",
    "model.add(Dense(128, input_dim=300, activation='relu'))\n",
    "model.add(Dense(128, activation='sigmoid'))\n",
    "model.add(Dense(64, activation='relu'))\n",
    "model.add(Dense(1, activation='relu'))\n",
    "model.compile(loss='mean_squared_error', optimizer='adam')\n",
    "\n",
    "model.fit(train_data_keras, yLabels_train_keras, epochs=100, batch_size=5, verbose=1)\n",
    "y_pred_keras = model.predict_proba(test_data_keras)\n",
    "#for i in range(len(test_data_keras)):\n",
    "    #print(\"X=%s, Predicted=%s\" % (yLabels_test_keras[i], y_pred_keras[i]))"
   ]
  },
  {
   "cell_type": "code",
   "execution_count": 20,
   "metadata": {},
   "outputs": [
    {
     "name": "stdout",
     "output_type": "stream",
     "text": [
      "241\n",
      "0.9543568464730291\n"
     ]
    },
    {
     "data": {
      "image/png": "[encoded data removed]",
      "text/plain": [
       "<Figure size 432x288 with 1 Axes>"
      ]
     },
     "metadata": {
      "needs_background": "light"
     },
     "output_type": "display_data"
    },
    {
     "data": {
      "image/png": "[encoded data removed]",
      "text/plain": [
       "<Figure size 432x288 with 1 Axes>"
      ]
     },
     "metadata": {
      "needs_background": "light"
     },
     "output_type": "display_data"
    },
    {
     "data": {
      "image/png": "[encoded data removed]",
      "text/plain": [
       "<Figure size 432x288 with 1 Axes>"
      ]
     },
     "metadata": {
      "needs_background": "light"
     },
     "output_type": "display_data"
    }
   ],
   "source": [
    "rightSmoker = 0\n",
    "print(len(y_pred_keras))\n",
    "for i in range(len(y_pred_keras)):\n",
    "    #if yLabels_test_keras[i] == 1:\n",
    "    if round(y_pred_keras[i][0]) == yLabels_test_keras[i]:\n",
    "        rightSmoker += 1\n",
    "\n",
    "accuracy = rightSmoker/(241) #There are 241 totoal test notes, 14 smoker and 241-14 non-smoker\n",
    "print(accuracy)\n",
    "\n",
    "\n",
    "test_data_keras_PCA = pca.fit_transform(test_data_keras)\n",
    "class1 = []\n",
    "class2 = []\n",
    "\n",
    "for a in range(len(test_data)-1):\n",
    "    if round(y_pred_keras[a][0]) == 0:\n",
    "        class1.append(test_data_keras_PCA[a])\n",
    "    else:\n",
    "        class2.append(test_data_keras_PCA[a])\n",
    "                         \n",
    "plt.scatter(*zip(*class2), color='blue')\n",
    "plt.scatter(*zip(*class1), color='red')\n",
    "plt.xlim(-.4, 1.4)\n",
    "plt.ylim(-.6, .6)\n",
    "plt.show()\n",
    "\n",
    "'''\n",
    "plt.scatter(*zip(*class1), color='red')\n",
    "plt.xlim(-.4, 1.4)\n",
    "plt.ylim(-.6, .6)\n",
    "plt.show()\n",
    "\n",
    "plt.scatter(*zip(*class2), color='blue')\n",
    "plt.xlim(-.4, 1.4)\n",
    "plt.ylim(-.6, .6)\n",
    "plt.show()\n",
    "'''"
   ]
  },
  {
   "cell_type": "code",
   "execution_count": null,
   "metadata": {},
   "outputs": [],
   "source": []
  }
 ],
 "metadata": {
  "kernelspec": {
   "display_name": "Python 3",
   "language": "python",
   "name": "python3"
  },
  "language_info": {
   "codemirror_mode": {
    "name": "ipython",
    "version": 3
   },
   "file_extension": ".py",
   "mimetype": "text/x-python",
   "name": "python",
   "nbconvert_exporter": "python",
   "pygments_lexer": "ipython3",
   "version": "3.7.3"
  }
 },
 "nbformat": 4,
 "nbformat_minor": 2
}
